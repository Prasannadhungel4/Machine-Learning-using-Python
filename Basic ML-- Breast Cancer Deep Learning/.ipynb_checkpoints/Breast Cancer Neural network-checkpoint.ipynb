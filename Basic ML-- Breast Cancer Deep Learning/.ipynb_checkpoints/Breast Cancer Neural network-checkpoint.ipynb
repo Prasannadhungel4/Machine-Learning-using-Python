{
 "cells": [
  {
   "cell_type": "code",
   "execution_count": 19,
   "metadata": {},
   "outputs": [],
   "source": [
    "from sklearn.datasets import load_breast_cancer\n",
    "cancer = load_breast_cancer()\n",
    "\n",
    "x_train = cancer.data[:340]\n",
    "y_train = cancer.target[:340]\n",
    "\n",
    "x_test = cancer.data[340:]\n",
    "y_test = cancer.target[340:]"
   ]
  },
  {
   "cell_type": "code",
   "execution_count": 2,
   "metadata": {},
   "outputs": [
    {
     "name": "stderr",
     "output_type": "stream",
     "text": [
      "Using TensorFlow backend.\n"
     ]
    }
   ],
   "source": [
    "import numpy as np\n",
    "from keras.models import Sequential\n",
    "from keras.layers import Dense, Dropout\n",
    "\n",
    "model = Sequential()\n",
    "model.add(Dense(15, input_dim= 30, activation='relu'))\n",
    "model.add(Dense(15, activation='relu'))\n",
    "model.add(Dense(15, activation='relu'))\n",
    "model.add(Dense(1, activation='sigmoid'))"
   ]
  },
  {
   "cell_type": "code",
   "execution_count": 20,
   "metadata": {},
   "outputs": [
    {
     "name": "stdout",
     "output_type": "stream",
     "text": [
      "Epoch 1/20\n",
      "340/340 [==============================] - 0s 341us/step - loss: 0.7011 - accuracy: 0.7971\n",
      "Epoch 2/20\n",
      "340/340 [==============================] - 0s 41us/step - loss: 0.3804 - accuracy: 0.8500\n",
      "Epoch 3/20\n",
      "340/340 [==============================] - 0s 29us/step - loss: 0.2735 - accuracy: 0.9176\n",
      "Epoch 4/20\n",
      "340/340 [==============================] - 0s 29us/step - loss: 0.4181 - accuracy: 0.8441\n",
      "Epoch 5/20\n",
      "340/340 [==============================] - 0s 41us/step - loss: 0.2741 - accuracy: 0.9059\n",
      "Epoch 6/20\n",
      "340/340 [==============================] - 0s 38us/step - loss: 0.3298 - accuracy: 0.8794\n",
      "Epoch 7/20\n",
      "340/340 [==============================] - 0s 35us/step - loss: 0.2896 - accuracy: 0.9029\n",
      "Epoch 8/20\n",
      "340/340 [==============================] - 0s 29us/step - loss: 0.5002 - accuracy: 0.8118\n",
      "Epoch 9/20\n",
      "340/340 [==============================] - 0s 35us/step - loss: 0.2398 - accuracy: 0.9147\n",
      "Epoch 10/20\n",
      "340/340 [==============================] - 0s 29us/step - loss: 0.3207 - accuracy: 0.8882\n",
      "Epoch 11/20\n",
      "340/340 [==============================] - 0s 29us/step - loss: 0.4466 - accuracy: 0.8235\n",
      "Epoch 12/20\n",
      "340/340 [==============================] - 0s 35us/step - loss: 0.3829 - accuracy: 0.8500\n",
      "Epoch 13/20\n",
      "340/340 [==============================] - 0s 41us/step - loss: 0.2456 - accuracy: 0.9059\n",
      "Epoch 14/20\n",
      "340/340 [==============================] - 0s 35us/step - loss: 0.3671 - accuracy: 0.8794\n",
      "Epoch 15/20\n",
      "340/340 [==============================] - 0s 32us/step - loss: 0.2621 - accuracy: 0.9059\n",
      "Epoch 16/20\n",
      "340/340 [==============================] - 0s 35us/step - loss: 0.4524 - accuracy: 0.8412\n",
      "Epoch 17/20\n",
      "340/340 [==============================] - 0s 29us/step - loss: 0.2273 - accuracy: 0.9118\n",
      "Epoch 18/20\n",
      "340/340 [==============================] - 0s 38us/step - loss: 0.3166 - accuracy: 0.8765\n",
      "Epoch 19/20\n",
      "340/340 [==============================] - 0s 29us/step - loss: 0.3224 - accuracy: 0.8824\n",
      "Epoch 20/20\n",
      "340/340 [==============================] - 0s 35us/step - loss: 0.2784 - accuracy: 0.9118\n"
     ]
    },
    {
     "data": {
      "text/plain": [
       "<keras.callbacks.callbacks.History at 0x21faf778748>"
      ]
     },
     "execution_count": 20,
     "metadata": {},
     "output_type": "execute_result"
    }
   ],
   "source": [
    "model.compile(loss='binary_crossentropy', optimizer='rmsprop', metrics=['accuracy'])\n",
    "model.fit(x_train, y_train, epochs=20, batch_size=50)"
   ]
  },
  {
   "cell_type": "code",
   "execution_count": 23,
   "metadata": {},
   "outputs": [
    {
     "name": "stdout",
     "output_type": "stream",
     "text": [
      "Accuracy:  0.8864628820960698\n",
      "              precision    recall  f1-score   support\n",
      "\n",
      "           0       0.80      0.71      0.75        55\n",
      "           1       0.91      0.94      0.93       174\n",
      "\n",
      "    accuracy                           0.89       229\n",
      "   macro avg       0.85      0.83      0.84       229\n",
      "weighted avg       0.88      0.89      0.88       229\n",
      "\n"
     ]
    }
   ],
   "source": [
    "predictions = model.predict_classes(x_test)\n",
    "from sklearn import metrics\n",
    "print(\"Accuracy: \", metrics.accuracy_score(y_true=y_test, y_pred=predictions))\n",
    "print(metrics.classification_report(y_true=y_test, y_pred=predictions))"
   ]
  }
 ],
 "metadata": {
  "kernelspec": {
   "display_name": "Python 3",
   "language": "python",
   "name": "python3"
  },
  "language_info": {
   "codemirror_mode": {
    "name": "ipython",
    "version": 3
   },
   "file_extension": ".py",
   "mimetype": "text/x-python",
   "name": "python",
   "nbconvert_exporter": "python",
   "pygments_lexer": "ipython3",
   "version": "3.6.4"
  }
 },
 "nbformat": 4,
 "nbformat_minor": 2
}
